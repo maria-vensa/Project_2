{
 "cells": [
  {
   "cell_type": "markdown",
   "metadata": {},
   "source": [
    "### EDA on a Dataset and Linear Regression results"
   ]
  },
  {
   "cell_type": "code",
   "execution_count": 9,
   "metadata": {},
   "outputs": [],
   "source": [
    "# Dataset: \n",
    "headbrain11.csv"
   ]
  },
  {
   "cell_type": "code",
   "execution_count": 10,
   "metadata": {},
   "outputs": [
    {
     "data": {
      "text/html": [
       "<div>\n",
       "<style scoped>\n",
       "    .dataframe tbody tr th:only-of-type {\n",
       "        vertical-align: middle;\n",
       "    }\n",
       "\n",
       "    .dataframe tbody tr th {\n",
       "        vertical-align: top;\n",
       "    }\n",
       "\n",
       "    .dataframe thead th {\n",
       "        text-align: right;\n",
       "    }\n",
       "</style>\n",
       "<table border=\"1\" class=\"dataframe\">\n",
       "  <thead>\n",
       "    <tr style=\"text-align: right;\">\n",
       "      <th></th>\n",
       "      <th>Head Size(cm^3)</th>\n",
       "      <th>Brain Weight(grams)</th>\n",
       "    </tr>\n",
       "  </thead>\n",
       "  <tbody>\n",
       "    <tr>\n",
       "      <th>0</th>\n",
       "      <td>4512</td>\n",
       "      <td>1530</td>\n",
       "    </tr>\n",
       "    <tr>\n",
       "      <th>1</th>\n",
       "      <td>3738</td>\n",
       "      <td>1297</td>\n",
       "    </tr>\n",
       "    <tr>\n",
       "      <th>2</th>\n",
       "      <td>4261</td>\n",
       "      <td>1335</td>\n",
       "    </tr>\n",
       "    <tr>\n",
       "      <th>3</th>\n",
       "      <td>3777</td>\n",
       "      <td>1282</td>\n",
       "    </tr>\n",
       "    <tr>\n",
       "      <th>4</th>\n",
       "      <td>4177</td>\n",
       "      <td>1590</td>\n",
       "    </tr>\n",
       "  </tbody>\n",
       "</table>\n",
       "</div>"
      ],
      "text/plain": [
       "   Head Size(cm^3)  Brain Weight(grams)\n",
       "0             4512                 1530\n",
       "1             3738                 1297\n",
       "2             4261                 1335\n",
       "3             3777                 1282\n",
       "4             4177                 1590"
      ]
     },
     "execution_count": 10,
     "metadata": {},
     "output_type": "execute_result"
    }
   ],
   "source": [
    "import pandas as pd\n",
    "df = pd.read_csv(\"headbrain11.csv\")\n",
    "df.head()"
   ]
  },
  {
   "cell_type": "code",
   "execution_count": 11,
   "metadata": {},
   "outputs": [
    {
     "name": "stdout",
     "output_type": "stream",
     "text": [
      "<class 'pandas.core.frame.DataFrame'>\n",
      "RangeIndex: 237 entries, 0 to 236\n",
      "Data columns (total 2 columns):\n",
      " #   Column               Non-Null Count  Dtype\n",
      "---  ------               --------------  -----\n",
      " 0   Head Size(cm^3)      237 non-null    int64\n",
      " 1   Brain Weight(grams)  237 non-null    int64\n",
      "dtypes: int64(2)\n",
      "memory usage: 3.8 KB\n"
     ]
    }
   ],
   "source": [
    "df.info()"
   ]
  },
  {
   "cell_type": "code",
   "execution_count": 12,
   "metadata": {},
   "outputs": [
    {
     "data": {
      "text/html": [
       "<div>\n",
       "<style scoped>\n",
       "    .dataframe tbody tr th:only-of-type {\n",
       "        vertical-align: middle;\n",
       "    }\n",
       "\n",
       "    .dataframe tbody tr th {\n",
       "        vertical-align: top;\n",
       "    }\n",
       "\n",
       "    .dataframe thead th {\n",
       "        text-align: right;\n",
       "    }\n",
       "</style>\n",
       "<table border=\"1\" class=\"dataframe\">\n",
       "  <thead>\n",
       "    <tr style=\"text-align: right;\">\n",
       "      <th></th>\n",
       "      <th>Head Size(cm^3)</th>\n",
       "      <th>Brain Weight(grams)</th>\n",
       "    </tr>\n",
       "  </thead>\n",
       "  <tbody>\n",
       "    <tr>\n",
       "      <th>count</th>\n",
       "      <td>237.000000</td>\n",
       "      <td>237.000000</td>\n",
       "    </tr>\n",
       "    <tr>\n",
       "      <th>mean</th>\n",
       "      <td>3633.991561</td>\n",
       "      <td>1282.873418</td>\n",
       "    </tr>\n",
       "    <tr>\n",
       "      <th>std</th>\n",
       "      <td>365.261422</td>\n",
       "      <td>120.340446</td>\n",
       "    </tr>\n",
       "    <tr>\n",
       "      <th>min</th>\n",
       "      <td>2720.000000</td>\n",
       "      <td>955.000000</td>\n",
       "    </tr>\n",
       "    <tr>\n",
       "      <th>25%</th>\n",
       "      <td>3389.000000</td>\n",
       "      <td>1207.000000</td>\n",
       "    </tr>\n",
       "    <tr>\n",
       "      <th>50%</th>\n",
       "      <td>3614.000000</td>\n",
       "      <td>1280.000000</td>\n",
       "    </tr>\n",
       "    <tr>\n",
       "      <th>75%</th>\n",
       "      <td>3876.000000</td>\n",
       "      <td>1350.000000</td>\n",
       "    </tr>\n",
       "    <tr>\n",
       "      <th>max</th>\n",
       "      <td>4747.000000</td>\n",
       "      <td>1635.000000</td>\n",
       "    </tr>\n",
       "  </tbody>\n",
       "</table>\n",
       "</div>"
      ],
      "text/plain": [
       "       Head Size(cm^3)  Brain Weight(grams)\n",
       "count       237.000000           237.000000\n",
       "mean       3633.991561          1282.873418\n",
       "std         365.261422           120.340446\n",
       "min        2720.000000           955.000000\n",
       "25%        3389.000000          1207.000000\n",
       "50%        3614.000000          1280.000000\n",
       "75%        3876.000000          1350.000000\n",
       "max        4747.000000          1635.000000"
      ]
     },
     "execution_count": 12,
     "metadata": {},
     "output_type": "execute_result"
    }
   ],
   "source": [
    "# describe() function gives details about each column's statistical parameters\n",
    "# - min, max, 1st quartile (25%), 2nd quartile (50%)(median), 3rd quartile (75%)\n",
    "# - count (total rows)\n",
    "# - mean (average)\n",
    "# - Standard Deviation (amount of distance from the mean, based on each value in that column)\n",
    "\n",
    "df.describe()"
   ]
  },
  {
   "cell_type": "code",
   "execution_count": 13,
   "metadata": {},
   "outputs": [
    {
     "name": "stdout",
     "output_type": "stream",
     "text": [
      "<class 'pandas.core.frame.DataFrame'>\n",
      "RangeIndex: 237 entries, 0 to 236\n",
      "Data columns (total 2 columns):\n",
      " #   Column        Non-Null Count  Dtype\n",
      "---  ------        --------------  -----\n",
      " 0   Head_size     237 non-null    int64\n",
      " 1   Brain_weight  237 non-null    int64\n",
      "dtypes: int64(2)\n",
      "memory usage: 3.8 KB\n"
     ]
    }
   ],
   "source": [
    "# Renaming the columns to have simple names\n",
    "\n",
    "df.columns = [\"Head_size\",\"Brain_weight\"]\n",
    "df.info()"
   ]
  },
  {
   "cell_type": "markdown",
   "metadata": {},
   "source": [
    "#### Creating a Linear Regression model"
   ]
  },
  {
   "cell_type": "code",
   "execution_count": 14,
   "metadata": {},
   "outputs": [],
   "source": [
    "import statsmodels.formula.api as smf\n",
    "\n",
    "model = smf.ols(formula='Head_size ~ Brain_weight', data=df).fit()\n",
    "\n",
    "predicted_head_size_series = model.predict(df[\"Brain_weight\"])"
   ]
  },
  {
   "cell_type": "code",
   "execution_count": 15,
   "metadata": {},
   "outputs": [
    {
     "data": {
      "text/plain": [
       "<matplotlib.legend.Legend at 0x201b1cba800>"
      ]
     },
     "execution_count": 15,
     "metadata": {},
     "output_type": "execute_result"
    },
    {
     "data": {
      "image/png": "[encoded data removed]",
      "text/plain": [
       "<Figure size 640x480 with 1 Axes>"
      ]
     },
     "metadata": {},
     "output_type": "display_data"
    }
   ],
   "source": [
    "#Actual Vs OLS Predicted plot\n",
    "\n",
    "\n",
    "import matplotlib.pyplot as plt\n",
    "\n",
    "# Brain_weight --> shown in x-axis of the plot\n",
    "# Head_size --> shown in y-axis of the plot\n",
    "\n",
    "# Actual Head_size based plot\n",
    "plt.scatter(df[\"Brain_weight\"], df[\"Head_size\"], label=\"Actual Head_size\")\n",
    "\n",
    "# OLS Predicted Head_size based plot\n",
    "plt.scatter(df[\"Brain_weight\"], predicted_head_size_series, color=\"red\", label=\"OLS Predicted Head_size\")\n",
    "\n",
    "plt.xlabel(\"Brain_weight\")\n",
    "plt.ylabel(\"Head_size\")\n",
    "\n",
    "plt.legend()"
   ]
  },
  {
   "cell_type": "markdown",
   "metadata": {},
   "source": [
    "#### Predicting the **Head_size** for a NEW **Brain_weight** of 3000"
   ]
  },
  {
   "cell_type": "code",
   "execution_count": 16,
   "metadata": {},
   "outputs": [
    {
     "data": {
      "text/plain": [
       "0    7801.253837\n",
       "dtype: float64"
      ]
     },
     "execution_count": 16,
     "metadata": {},
     "output_type": "execute_result"
    }
   ],
   "source": [
    "model.predict(pd.Series(3000, name=\"Brain_weight\"))"
   ]
  },
  {
   "cell_type": "code",
   "execution_count": 17,
   "metadata": {},
   "outputs": [
    {
     "data": {
      "text/plain": [
       "0    7801.253837\n",
       "dtype: float64"
      ]
     },
     "execution_count": 17,
     "metadata": {},
     "output_type": "execute_result"
    }
   ],
   "source": [
    "model.predict(pd.Series(3000, name=\"Brain_weight\"))"
   ]
  },
  {
   "cell_type": "markdown",
   "metadata": {},
   "source": [
    "#### Analysis of the HeadBrain dataset"
   ]
  },
  {
   "cell_type": "code",
   "execution_count": 18,
   "metadata": {},
   "outputs": [
    {
     "data": {
      "text/html": [
       "<div>\n",
       "<style scoped>\n",
       "    .dataframe tbody tr th:only-of-type {\n",
       "        vertical-align: middle;\n",
       "    }\n",
       "\n",
       "    .dataframe tbody tr th {\n",
       "        vertical-align: top;\n",
       "    }\n",
       "\n",
       "    .dataframe thead th {\n",
       "        text-align: right;\n",
       "    }\n",
       "</style>\n",
       "<table border=\"1\" class=\"dataframe\">\n",
       "  <thead>\n",
       "    <tr style=\"text-align: right;\">\n",
       "      <th></th>\n",
       "      <th>Head_size</th>\n",
       "      <th>Brain_weight</th>\n",
       "    </tr>\n",
       "  </thead>\n",
       "  <tbody>\n",
       "    <tr>\n",
       "      <th>count</th>\n",
       "      <td>237.000000</td>\n",
       "      <td>237.000000</td>\n",
       "    </tr>\n",
       "    <tr>\n",
       "      <th>mean</th>\n",
       "      <td>3633.991561</td>\n",
       "      <td>1282.873418</td>\n",
       "    </tr>\n",
       "    <tr>\n",
       "      <th>std</th>\n",
       "      <td>365.261422</td>\n",
       "      <td>120.340446</td>\n",
       "    </tr>\n",
       "    <tr>\n",
       "      <th>min</th>\n",
       "      <td>2720.000000</td>\n",
       "      <td>955.000000</td>\n",
       "    </tr>\n",
       "    <tr>\n",
       "      <th>25%</th>\n",
       "      <td>3389.000000</td>\n",
       "      <td>1207.000000</td>\n",
       "    </tr>\n",
       "    <tr>\n",
       "      <th>50%</th>\n",
       "      <td>3614.000000</td>\n",
       "      <td>1280.000000</td>\n",
       "    </tr>\n",
       "    <tr>\n",
       "      <th>75%</th>\n",
       "      <td>3876.000000</td>\n",
       "      <td>1350.000000</td>\n",
       "    </tr>\n",
       "    <tr>\n",
       "      <th>max</th>\n",
       "      <td>4747.000000</td>\n",
       "      <td>1635.000000</td>\n",
       "    </tr>\n",
       "  </tbody>\n",
       "</table>\n",
       "</div>"
      ],
      "text/plain": [
       "         Head_size  Brain_weight\n",
       "count   237.000000    237.000000\n",
       "mean   3633.991561   1282.873418\n",
       "std     365.261422    120.340446\n",
       "min    2720.000000    955.000000\n",
       "25%    3389.000000   1207.000000\n",
       "50%    3614.000000   1280.000000\n",
       "75%    3876.000000   1350.000000\n",
       "max    4747.000000   1635.000000"
      ]
     },
     "execution_count": 18,
     "metadata": {},
     "output_type": "execute_result"
    }
   ],
   "source": [
    "df.describe()"
   ]
  },
  {
   "cell_type": "code",
   "execution_count": 19,
   "metadata": {},
   "outputs": [
    {
     "data": {
      "image/png": "[encoded data removed]",
      "text/plain": [
       "<Figure size 640x200 with 2 Axes>"
      ]
     },
     "metadata": {},
     "output_type": "display_data"
    }
   ],
   "source": [
    "fig, axes = plt.subplots(1,2)\n",
    "fig.set_figheight(2)\n",
    "\n",
    "axes[0].set_title(\"Head_size plot\")\n",
    "axes[0].hist(df[\"Head_size\"])\n",
    "axes[0].axvline(df[\"Head_size\"].mean(), color=\"red\")\n",
    "axes[0].axvline(df[\"Head_size\"].median(), color=\"black\")\n",
    "axes[0].axvline(df[\"Head_size\"].mode()[0], color=\"orange\")\n",
    "axes[0].set_xlabel(\"Head_size\")\n",
    "axes[0].set_ylabel(\"frequency\")\n",
    "axes[0].legend([\"mean\", \"median\", \"mode\", \"Distribution\"], loc =\"upper right\", fontsize=\"8\")\n",
    "\n",
    "\n",
    "axes[1].set_title(\"Brain_weight plot\")\n",
    "axes[1].hist(df[\"Brain_weight\"])\n",
    "axes[1].axvline(df[\"Brain_weight\"].mean(), color=\"red\")\n",
    "axes[1].axvline(df[\"Brain_weight\"].median(), color=\"black\")\n",
    "axes[1].axvline(df[\"Brain_weight\"].mode()[0], color=\"orange\")\n",
    "axes[1].set_xlabel(\"Brain_weight\")\n",
    "axes[1].set_ylabel(\"frequency\")\n",
    "axes[1].legend([\"mean\", \"median\", \"mode\", \"Distribution\"], loc =\"upper right\", fontsize=\"8\")\n",
    "\n",
    "fig.set_tight_layout(True)"
   ]
  },
  {
   "cell_type": "code",
   "execution_count": 20,
   "metadata": {},
   "outputs": [
    {
     "data": {
      "text/html": [
       "<div>\n",
       "<style scoped>\n",
       "    .dataframe tbody tr th:only-of-type {\n",
       "        vertical-align: middle;\n",
       "    }\n",
       "\n",
       "    .dataframe tbody tr th {\n",
       "        vertical-align: top;\n",
       "    }\n",
       "\n",
       "    .dataframe thead th {\n",
       "        text-align: right;\n",
       "    }\n",
       "</style>\n",
       "<table border=\"1\" class=\"dataframe\">\n",
       "  <thead>\n",
       "    <tr style=\"text-align: right;\">\n",
       "      <th></th>\n",
       "      <th>Head_size</th>\n",
       "      <th>Brain_weight</th>\n",
       "    </tr>\n",
       "  </thead>\n",
       "  <tbody>\n",
       "    <tr>\n",
       "      <th>count</th>\n",
       "      <td>237.000000</td>\n",
       "      <td>237.000000</td>\n",
       "    </tr>\n",
       "    <tr>\n",
       "      <th>mean</th>\n",
       "      <td>3633.991561</td>\n",
       "      <td>1282.873418</td>\n",
       "    </tr>\n",
       "    <tr>\n",
       "      <th>std</th>\n",
       "      <td>365.261422</td>\n",
       "      <td>120.340446</td>\n",
       "    </tr>\n",
       "    <tr>\n",
       "      <th>min</th>\n",
       "      <td>2720.000000</td>\n",
       "      <td>955.000000</td>\n",
       "    </tr>\n",
       "    <tr>\n",
       "      <th>25%</th>\n",
       "      <td>3389.000000</td>\n",
       "      <td>1207.000000</td>\n",
       "    </tr>\n",
       "    <tr>\n",
       "      <th>50%</th>\n",
       "      <td>3614.000000</td>\n",
       "      <td>1280.000000</td>\n",
       "    </tr>\n",
       "    <tr>\n",
       "      <th>75%</th>\n",
       "      <td>3876.000000</td>\n",
       "      <td>1350.000000</td>\n",
       "    </tr>\n",
       "    <tr>\n",
       "      <th>max</th>\n",
       "      <td>4747.000000</td>\n",
       "      <td>1635.000000</td>\n",
       "    </tr>\n",
       "  </tbody>\n",
       "</table>\n",
       "</div>"
      ],
      "text/plain": [
       "         Head_size  Brain_weight\n",
       "count   237.000000    237.000000\n",
       "mean   3633.991561   1282.873418\n",
       "std     365.261422    120.340446\n",
       "min    2720.000000    955.000000\n",
       "25%    3389.000000   1207.000000\n",
       "50%    3614.000000   1280.000000\n",
       "75%    3876.000000   1350.000000\n",
       "max    4747.000000   1635.000000"
      ]
     },
     "execution_count": 20,
     "metadata": {},
     "output_type": "execute_result"
    }
   ],
   "source": [
    "from copy import deepcopy\n",
    "\n",
    "new_df = deepcopy(df)\n",
    "new_df.describe()"
   ]
  },
  {
   "cell_type": "code",
   "execution_count": 21,
   "metadata": {},
   "outputs": [
    {
     "data": {
      "text/html": [
       "<div>\n",
       "<style scoped>\n",
       "    .dataframe tbody tr th:only-of-type {\n",
       "        vertical-align: middle;\n",
       "    }\n",
       "\n",
       "    .dataframe tbody tr th {\n",
       "        vertical-align: top;\n",
       "    }\n",
       "\n",
       "    .dataframe thead th {\n",
       "        text-align: right;\n",
       "    }\n",
       "</style>\n",
       "<table border=\"1\" class=\"dataframe\">\n",
       "  <thead>\n",
       "    <tr style=\"text-align: right;\">\n",
       "      <th></th>\n",
       "      <th>Head_size</th>\n",
       "      <th>Brain_weight</th>\n",
       "    </tr>\n",
       "  </thead>\n",
       "  <tbody>\n",
       "    <tr>\n",
       "      <th>0</th>\n",
       "      <td>4512</td>\n",
       "      <td>1530</td>\n",
       "    </tr>\n",
       "    <tr>\n",
       "      <th>1</th>\n",
       "      <td>3738</td>\n",
       "      <td>1297</td>\n",
       "    </tr>\n",
       "    <tr>\n",
       "      <th>2</th>\n",
       "      <td>4261</td>\n",
       "      <td>1335</td>\n",
       "    </tr>\n",
       "    <tr>\n",
       "      <th>3</th>\n",
       "      <td>3777</td>\n",
       "      <td>1282</td>\n",
       "    </tr>\n",
       "    <tr>\n",
       "      <th>4</th>\n",
       "      <td>4177</td>\n",
       "      <td>1590</td>\n",
       "    </tr>\n",
       "    <tr>\n",
       "      <th>...</th>\n",
       "      <td>...</td>\n",
       "      <td>...</td>\n",
       "    </tr>\n",
       "    <tr>\n",
       "      <th>332</th>\n",
       "      <td>12894</td>\n",
       "      <td>12894</td>\n",
       "    </tr>\n",
       "    <tr>\n",
       "      <th>333</th>\n",
       "      <td>9316</td>\n",
       "      <td>9316</td>\n",
       "    </tr>\n",
       "    <tr>\n",
       "      <th>334</th>\n",
       "      <td>2412</td>\n",
       "      <td>2412</td>\n",
       "    </tr>\n",
       "    <tr>\n",
       "      <th>335</th>\n",
       "      <td>4219</td>\n",
       "      <td>4219</td>\n",
       "    </tr>\n",
       "    <tr>\n",
       "      <th>336</th>\n",
       "      <td>8978</td>\n",
       "      <td>8978</td>\n",
       "    </tr>\n",
       "  </tbody>\n",
       "</table>\n",
       "<p>337 rows × 2 columns</p>\n",
       "</div>"
      ],
      "text/plain": [
       "     Head_size  Brain_weight\n",
       "0         4512          1530\n",
       "1         3738          1297\n",
       "2         4261          1335\n",
       "3         3777          1282\n",
       "4         4177          1590\n",
       "..         ...           ...\n",
       "332      12894         12894\n",
       "333       9316          9316\n",
       "334       2412          2412\n",
       "335       4219          4219\n",
       "336       8978          8978\n",
       "\n",
       "[337 rows x 2 columns]"
      ]
     },
     "execution_count": 21,
     "metadata": {},
     "output_type": "execute_result"
    }
   ],
   "source": [
    "# Affecting the original HeadBrain dataset with some NEW and EXTREME VALUES\n",
    "# This is done to see the Distribution plot of the Series before and after getting affected\n",
    "\n",
    "import numpy as np\n",
    "random_series = pd.Series(np.random.randint(1,15000,100))\n",
    "\n",
    "temp_df = pd.concat([random_series, random_series], axis=1)\n",
    "temp_df.columns = list(new_df.columns)\n",
    "\n",
    "affected_df = pd.concat([new_df, temp_df])\n",
    "affected_df = affected_df.reset_index(drop=True)\n",
    "\n",
    "affected_df"
   ]
  },
  {
   "cell_type": "code",
   "execution_count": 22,
   "metadata": {},
   "outputs": [
    {
     "data": {
      "image/png": "[encoded data removed]",
      "text/plain": [
       "<Figure size 640x400 with 4 Axes>"
      ]
     },
     "metadata": {},
     "output_type": "display_data"
    }
   ],
   "source": [
    "fig, axes = plt.subplots(2,2)\n",
    "fig.set_figheight(4)\n",
    "\n",
    "\n",
    "axes[0][0].set_title(\"Affected DF - Head_size plot\")\n",
    "axes[0][0].hist(affected_df[\"Head_size\"])\n",
    "axes[0][0].axvline(affected_df[\"Head_size\"].mean(), color=\"red\")\n",
    "axes[0][0].axvline(affected_df[\"Head_size\"].median(), color=\"black\")\n",
    "axes[0][0].axvline(affected_df[\"Head_size\"].mode()[0], color=\"orange\")\n",
    "axes[0][0].set_xlabel(\"Head_size\")\n",
    "axes[0][0].set_ylabel(\"frequency\")\n",
    "axes[0][0].legend([\"mean\", \"median\", \"mode\", \"Distribution\"], loc =\"upper right\", fontsize=\"8\")\n",
    "\n",
    "\n",
    "axes[0][1].set_title(\"Affected DF - Brain_weight plot\")\n",
    "axes[0][1].hist(affected_df[\"Brain_weight\"])\n",
    "axes[0][1].axvline(affected_df[\"Brain_weight\"].mean(), color=\"red\")\n",
    "axes[0][1].axvline(affected_df[\"Brain_weight\"].median(), color=\"black\")\n",
    "axes[0][1].axvline(affected_df[\"Brain_weight\"].mode()[0], color=\"orange\")\n",
    "axes[0][1].set_xlabel(\"Brain_weight\")\n",
    "axes[0][1].set_ylabel(\"frequency\")\n",
    "axes[0][1].legend([\"mean\", \"median\", \"mode\", \"Distribution\"], loc =\"upper right\", fontsize=\"8\")\n",
    "\n",
    "\n",
    "axes[1][0].set_title(\"Original DF - Head_size plot\")\n",
    "axes[1][0].hist(df[\"Head_size\"])\n",
    "axes[1][0].axvline(df[\"Head_size\"].mean(), color=\"red\")\n",
    "axes[1][0].axvline(df[\"Head_size\"].median(), color=\"black\")\n",
    "axes[1][0].axvline(df[\"Head_size\"].mode()[0], color=\"orange\")\n",
    "axes[1][0].set_xlabel(\"Head_size\")\n",
    "axes[1][0].set_ylabel(\"frequency\")\n",
    "axes[1][0].legend([\"mean\", \"median\", \"mode\", \"Distribution\"], loc =\"upper right\", fontsize=\"8\")\n",
    "\n",
    "\n",
    "axes[1][1].set_title(\"Original DF - Brain_weight plot\")\n",
    "axes[1][1].hist(df[\"Brain_weight\"])\n",
    "axes[1][1].axvline(df[\"Brain_weight\"].mean(), color=\"red\")\n",
    "axes[1][1].axvline(df[\"Brain_weight\"].median(), color=\"black\")\n",
    "axes[1][1].axvline(df[\"Brain_weight\"].mode()[0], color=\"orange\")\n",
    "axes[1][1].set_xlabel(\"Brain_weight\")\n",
    "axes[1][1].set_ylabel(\"frequency\")\n",
    "axes[1][1].legend([\"mean\", \"median\", \"mode\", \"Distribution\"], loc =\"upper right\", fontsize=\"8\")\n",
    "\n",
    "\n",
    "fig.set_tight_layout(True)"
   ]
  },
  {
   "cell_type": "markdown",
   "metadata": {},
   "source": [
    "**From above plots, following points can be summarized:**\n",
    "- The Original DF had good data values with **Normal Distribution**\n",
    "- But as **we Affected those data values** by manually adding some EXTREME values, **it became non-Normal Distribution**"
   ]
  }
 ],
 "metadata": {
  "kernelspec": {
   "display_name": ".venv",
   "language": "python",
   "name": "python3"
  },
  "language_info": {
   "codemirror_mode": {
    "name": "ipython",
    "version": 3
   },
   "file_extension": ".py",
   "mimetype": "text/x-python",
   "name": "python",
   "nbconvert_exporter": "python",
   "pygments_lexer": "ipython3",
   "version": "3.10.2"
  }
 },
 "nbformat": 4,
 "nbformat_minor": 2
}
